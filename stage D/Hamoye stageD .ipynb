{
 "cells": [
  {
   "cell_type": "code",
   "execution_count": 1,
   "metadata": {},
   "outputs": [],
   "source": [
    "import os\n",
    "import pandas as pd\n",
    "import numpy as np\n",
    "import tensorflow as tf\n",
    "import matplotlib.pyplot as plt\n",
    "from tensorflow.keras.preprocessing.image import load_img, img_to_array\n",
    "from sklearn.metrics import fbeta_score\n",
    "from tqdm import tqdm\n",
    "import cv2\n",
    "from PIL import Image\n",
    "from tensorflow import keras\n",
    "from skimage import io\n",
    "from sklearn.preprocessing import MultiLabelBinarizer"
   ]
  },
  {
   "cell_type": "code",
   "execution_count": 2,
   "metadata": {},
   "outputs": [
    {
     "data": {
      "text/html": [
       "<div>\n",
       "<style scoped>\n",
       "    .dataframe tbody tr th:only-of-type {\n",
       "        vertical-align: middle;\n",
       "    }\n",
       "\n",
       "    .dataframe tbody tr th {\n",
       "        vertical-align: top;\n",
       "    }\n",
       "\n",
       "    .dataframe thead th {\n",
       "        text-align: right;\n",
       "    }\n",
       "</style>\n",
       "<table border=\"1\" class=\"dataframe\">\n",
       "  <thead>\n",
       "    <tr style=\"text-align: right;\">\n",
       "      <th></th>\n",
       "      <th>image_name</th>\n",
       "      <th>tags</th>\n",
       "    </tr>\n",
       "  </thead>\n",
       "  <tbody>\n",
       "    <tr>\n",
       "      <th>0</th>\n",
       "      <td>train_0</td>\n",
       "      <td>haze primary</td>\n",
       "    </tr>\n",
       "    <tr>\n",
       "      <th>1</th>\n",
       "      <td>train_1</td>\n",
       "      <td>agriculture clear primary water</td>\n",
       "    </tr>\n",
       "    <tr>\n",
       "      <th>2</th>\n",
       "      <td>train_2</td>\n",
       "      <td>clear primary</td>\n",
       "    </tr>\n",
       "    <tr>\n",
       "      <th>3</th>\n",
       "      <td>train_3</td>\n",
       "      <td>clear primary</td>\n",
       "    </tr>\n",
       "    <tr>\n",
       "      <th>4</th>\n",
       "      <td>train_4</td>\n",
       "      <td>agriculture clear habitation primary road</td>\n",
       "    </tr>\n",
       "  </tbody>\n",
       "</table>\n",
       "</div>"
      ],
      "text/plain": [
       "  image_name                                       tags\n",
       "0    train_0                               haze primary\n",
       "1    train_1            agriculture clear primary water\n",
       "2    train_2                              clear primary\n",
       "3    train_3                              clear primary\n",
       "4    train_4  agriculture clear habitation primary road"
      ]
     },
     "execution_count": 2,
     "metadata": {},
     "output_type": "execute_result"
    }
   ],
   "source": [
    "train_classes = pd.read_csv(\"C:\\\\Users\\\\kumar\\\\Desktop\\\\data_science_projects\\\\Hamoye stageD\\\\train_v2.csv\\\\train_v2.csv\")\n",
    "sample_sub = pd.read_csv(\"C:\\\\Users\\\\kumar\\\\Desktop\\\\data_science_projects\\\\Hamoye stageD\\\\sample_submission_v2.csv\\\\sample_submission_v2.csv\")\n",
    "train_classes.head()"
   ]
  },
  {
   "cell_type": "code",
   "execution_count": 3,
   "metadata": {},
   "outputs": [],
   "source": [
    "# dict for converting labels to numerical classes\n",
    "\n",
    "label_map = {'agriculture': 14,\n",
    " 'artisinal_mine': 5,\n",
    " 'bare_ground': 1,\n",
    " 'blooming': 3,\n",
    " 'blow_down': 0,\n",
    " 'clear': 10,\n",
    " 'cloudy': 16,\n",
    " 'conventional_mine': 2,\n",
    " 'cultivation': 4,\n",
    " 'habitation': 9,\n",
    " 'haze': 6,\n",
    " 'partly_cloudy': 13,\n",
    " 'primary': 7,\n",
    " 'road': 11,\n",
    " 'selective_logging': 12,\n",
    " 'slash_burn': 8,\n",
    " 'water': 15}"
   ]
  },
  {
   "cell_type": "code",
   "execution_count": 4,
   "metadata": {},
   "outputs": [
    {
     "name": "stderr",
     "output_type": "stream",
     "text": [
      "100%|██████████| 40479/40479 [04:59<00:00, 135.22it/s]\n"
     ]
    }
   ],
   "source": [
    "# Loading the training images\n",
    "\n",
    "x_train, y_train = [], []\n",
    "\n",
    "for img_name, tags in tqdm(train_classes.values, miniters=1000):\n",
    "    arr = cv2.imread('C:\\\\Users\\\\kumar\\\\Desktop\\\\data_science_projects\\\\Hamoye stageD\\\\train-jpg\\{}.jpg'.format(img_name))\n",
    "    targets = np.zeros(17)\n",
    "    for t in tags.split(' '):\n",
    "        targets[label_map[t]] = 1 \n",
    "    x_train.append(cv2.resize(arr, (64, 64)))\n",
    "    y_train.append(targets)\n",
    "\n",
    "# normalizing train image pixels\n",
    "y_train = np.array(y_train, np.uint8)\n",
    "x_train = np.array(x_train,np.float16)/255.0"
   ]
  },
  {
   "cell_type": "code",
   "execution_count": 5,
   "metadata": {},
   "outputs": [
    {
     "data": {
      "image/png": "[encoded data removed]",
      "text/plain": [
       "<Figure size 1296x432 with 1 Axes>"
      ]
     },
     "metadata": {
      "needs_background": "light"
     },
     "output_type": "display_data"
    }
   ],
   "source": [
    "# numbers of tags and their names\n",
    "counts = {}\n",
    "splitted_tags = train_classes['tags'].map(lambda x: x.split(' '))\n",
    "for labels in splitted_tags.values:\n",
    "    for label in labels:\n",
    "        counts[label] = counts[label] + 1  if label in counts else 0\n",
    "\n",
    "plt.figure(figsize=(18, 6))\n",
    "plt.title('Classes')\n",
    "idxs = range(len(counts.values()))\n",
    "plt.xticks(idxs, counts.keys(), rotation=-45)\n",
    "plt.bar(idxs, counts.values());"
   ]
  },
  {
   "cell_type": "code",
   "execution_count": 6,
   "metadata": {},
   "outputs": [
    {
     "data": {
      "text/plain": [
       "40479"
      ]
     },
     "execution_count": 6,
     "metadata": {},
     "output_type": "execute_result"
    }
   ],
   "source": [
    "len(splitted_tags)"
   ]
  },
  {
   "cell_type": "code",
   "execution_count": 7,
   "metadata": {},
   "outputs": [],
   "source": [
    "#load data\n",
    "all_labels = splitted_tags.values\n",
    "labels = list(set([y for x in all_labels for y in x]))\n",
    "\n",
    "def load_data(train_classes, labels, resize):\n",
    "    x_train = []\n",
    "    y_train = []\n",
    "\n",
    "    label_map = {l: i for i, l in enumerate(labels)}\n",
    "    inv_label_map = {i: l for l, i in label_map.items()}\n",
    "\n",
    "    for f, tags in train_classes.values:\n",
    "        img = cv2.imread('C:\\\\Users\\\\kumar\\\\Desktop\\\\data_science_projects\\\\Hamoye stageD\\\\train-jpg\\{}.jpg'.format(f)) \n",
    "        targets = np.zeros(17)\n",
    "        for t in tags.split(' '):\n",
    "            targets[label_map[t]] = 1 \n",
    "\n",
    "        x_train.append(cv2.resize(img,resize))\n",
    "        y_train.append(targets)\n",
    "        \n",
    "    y_train = np.array(y_train, np.uint8)\n",
    "    x_train = np.array(x_train, np.float16) / 255.\n",
    "\n",
    "    return x_train, y_train"
   ]
  },
  {
   "cell_type": "code",
   "execution_count": 8,
   "metadata": {},
   "outputs": [
    {
     "data": {
      "text/plain": [
       "4055"
      ]
     },
     "execution_count": 8,
     "metadata": {},
     "output_type": "execute_result"
    }
   ],
   "source": [
    "import gc\n",
    "gc.collect()"
   ]
  },
  {
   "cell_type": "code",
   "execution_count": 9,
   "metadata": {},
   "outputs": [],
   "source": [
    "x, y = load_data(train_classes, labels, resize=(64, 64))"
   ]
  },
  {
   "cell_type": "code",
   "execution_count": 10,
   "metadata": {},
   "outputs": [
    {
     "data": {
      "text/plain": [
       "40"
      ]
     },
     "execution_count": 10,
     "metadata": {},
     "output_type": "execute_result"
    }
   ],
   "source": [
    "gc.collect()"
   ]
  },
  {
   "cell_type": "code",
   "execution_count": 11,
   "metadata": {},
   "outputs": [
    {
     "name": "stdout",
     "output_type": "stream",
     "text": [
      "(40479, 2)\n",
      "(61191, 2)\n"
     ]
    }
   ],
   "source": [
    "# checking the images of the datasets\n",
    "\n",
    "print(train_classes.shape)\n",
    "print(sample_sub.shape)"
   ]
  },
  {
   "cell_type": "code",
   "execution_count": 12,
   "metadata": {},
   "outputs": [],
   "source": [
    "from sklearn.model_selection import train_test_split\n",
    "\n",
    "import time"
   ]
  },
  {
   "cell_type": "code",
   "execution_count": 13,
   "metadata": {},
   "outputs": [],
   "source": [
    "x_train, x_val, y_train, y_val = train_test_split(x,y, test_size=0.2, random_state = int(time.time()))"
   ]
  },
  {
   "cell_type": "code",
   "execution_count": 14,
   "metadata": {},
   "outputs": [
    {
     "name": "stdout",
     "output_type": "stream",
     "text": [
      "(32383, 17)\n",
      "(32383, 64, 64, 3)\n",
      "(8096, 64, 64, 3)\n",
      "(8096, 17)\n"
     ]
    }
   ],
   "source": [
    "print(y_train.shape)\n",
    "print(x_train.shape)\n",
    "print(x_val.shape)\n",
    "print(y_val.shape)"
   ]
  },
  {
   "cell_type": "code",
   "execution_count": 15,
   "metadata": {},
   "outputs": [],
   "source": [
    "%reload_ext autoreload\n",
    "%autoreload 2\n",
    "%matplotlib inline\n",
    "\n",
    "from fastai.vision import *\n"
   ]
  },
  {
   "cell_type": "code",
   "execution_count": 16,
   "metadata": {},
   "outputs": [],
   "source": [
    "#pip install fastai==1.0.61"
   ]
  },
  {
   "cell_type": "code",
   "execution_count": 17,
   "metadata": {},
   "outputs": [
    {
     "name": "stdout",
     "output_type": "stream",
     "text": [
      "Number of labels:  17\n",
      "\n",
      "\n",
      "['agriculture' 'artisinal_mine' 'bare_ground' 'blooming' 'blow_down' 'clear' 'cloudy' 'conventional_mine' 'cultivation'\n",
      " 'habitation' 'haze' 'partly_cloudy' 'primary' 'road' 'selective_logging' 'slash_burn' 'water']\n"
     ]
    }
   ],
   "source": [
    "# Since this is a multi lable task and the labels are given as tags in a single dataframe series\n",
    "\n",
    "biner = MultiLabelBinarizer()\n",
    "tags = train_classes['tags'].str.split()\n",
    "y = biner.fit_transform(tags)\n",
    "\n",
    "labels = biner.classes_\n",
    "print('Number of labels: ', len(labels))\n",
    "print('\\n')\n",
    "print(labels)"
   ]
  },
  {
   "cell_type": "code",
   "execution_count": 18,
   "metadata": {},
   "outputs": [
    {
     "data": {
      "text/html": [
       "<div>\n",
       "<style scoped>\n",
       "    .dataframe tbody tr th:only-of-type {\n",
       "        vertical-align: middle;\n",
       "    }\n",
       "\n",
       "    .dataframe tbody tr th {\n",
       "        vertical-align: top;\n",
       "    }\n",
       "\n",
       "    .dataframe thead th {\n",
       "        text-align: right;\n",
       "    }\n",
       "</style>\n",
       "<table border=\"1\" class=\"dataframe\">\n",
       "  <thead>\n",
       "    <tr style=\"text-align: right;\">\n",
       "      <th></th>\n",
       "      <th>image_name</th>\n",
       "      <th>tags</th>\n",
       "      <th>agriculture</th>\n",
       "      <th>artisinal_mine</th>\n",
       "      <th>bare_ground</th>\n",
       "      <th>blooming</th>\n",
       "      <th>blow_down</th>\n",
       "      <th>clear</th>\n",
       "      <th>cloudy</th>\n",
       "      <th>conventional_mine</th>\n",
       "      <th>cultivation</th>\n",
       "      <th>habitation</th>\n",
       "      <th>haze</th>\n",
       "      <th>partly_cloudy</th>\n",
       "      <th>primary</th>\n",
       "      <th>road</th>\n",
       "      <th>selective_logging</th>\n",
       "      <th>slash_burn</th>\n",
       "      <th>water</th>\n",
       "    </tr>\n",
       "  </thead>\n",
       "  <tbody>\n",
       "    <tr>\n",
       "      <th>0</th>\n",
       "      <td>train_0</td>\n",
       "      <td>haze primary</td>\n",
       "      <td>0</td>\n",
       "      <td>0</td>\n",
       "      <td>0</td>\n",
       "      <td>0</td>\n",
       "      <td>0</td>\n",
       "      <td>0</td>\n",
       "      <td>0</td>\n",
       "      <td>0</td>\n",
       "      <td>0</td>\n",
       "      <td>0</td>\n",
       "      <td>1</td>\n",
       "      <td>0</td>\n",
       "      <td>1</td>\n",
       "      <td>0</td>\n",
       "      <td>0</td>\n",
       "      <td>0</td>\n",
       "      <td>0</td>\n",
       "    </tr>\n",
       "    <tr>\n",
       "      <th>1</th>\n",
       "      <td>train_1</td>\n",
       "      <td>agriculture clear primary water</td>\n",
       "      <td>1</td>\n",
       "      <td>0</td>\n",
       "      <td>0</td>\n",
       "      <td>0</td>\n",
       "      <td>0</td>\n",
       "      <td>1</td>\n",
       "      <td>0</td>\n",
       "      <td>0</td>\n",
       "      <td>0</td>\n",
       "      <td>0</td>\n",
       "      <td>0</td>\n",
       "      <td>0</td>\n",
       "      <td>1</td>\n",
       "      <td>0</td>\n",
       "      <td>0</td>\n",
       "      <td>0</td>\n",
       "      <td>1</td>\n",
       "    </tr>\n",
       "    <tr>\n",
       "      <th>2</th>\n",
       "      <td>train_2</td>\n",
       "      <td>clear primary</td>\n",
       "      <td>0</td>\n",
       "      <td>0</td>\n",
       "      <td>0</td>\n",
       "      <td>0</td>\n",
       "      <td>0</td>\n",
       "      <td>1</td>\n",
       "      <td>0</td>\n",
       "      <td>0</td>\n",
       "      <td>0</td>\n",
       "      <td>0</td>\n",
       "      <td>0</td>\n",
       "      <td>0</td>\n",
       "      <td>1</td>\n",
       "      <td>0</td>\n",
       "      <td>0</td>\n",
       "      <td>0</td>\n",
       "      <td>0</td>\n",
       "    </tr>\n",
       "    <tr>\n",
       "      <th>3</th>\n",
       "      <td>train_3</td>\n",
       "      <td>clear primary</td>\n",
       "      <td>0</td>\n",
       "      <td>0</td>\n",
       "      <td>0</td>\n",
       "      <td>0</td>\n",
       "      <td>0</td>\n",
       "      <td>1</td>\n",
       "      <td>0</td>\n",
       "      <td>0</td>\n",
       "      <td>0</td>\n",
       "      <td>0</td>\n",
       "      <td>0</td>\n",
       "      <td>0</td>\n",
       "      <td>1</td>\n",
       "      <td>0</td>\n",
       "      <td>0</td>\n",
       "      <td>0</td>\n",
       "      <td>0</td>\n",
       "    </tr>\n",
       "    <tr>\n",
       "      <th>4</th>\n",
       "      <td>train_4</td>\n",
       "      <td>agriculture clear habitation primary road</td>\n",
       "      <td>1</td>\n",
       "      <td>0</td>\n",
       "      <td>0</td>\n",
       "      <td>0</td>\n",
       "      <td>0</td>\n",
       "      <td>1</td>\n",
       "      <td>0</td>\n",
       "      <td>0</td>\n",
       "      <td>0</td>\n",
       "      <td>1</td>\n",
       "      <td>0</td>\n",
       "      <td>0</td>\n",
       "      <td>1</td>\n",
       "      <td>1</td>\n",
       "      <td>0</td>\n",
       "      <td>0</td>\n",
       "      <td>0</td>\n",
       "    </tr>\n",
       "  </tbody>\n",
       "</table>\n",
       "</div>"
      ],
      "text/plain": [
       "  image_name                                       tags  agriculture  \\\n",
       "0    train_0                               haze primary            0   \n",
       "1    train_1            agriculture clear primary water            1   \n",
       "2    train_2                              clear primary            0   \n",
       "3    train_3                              clear primary            0   \n",
       "4    train_4  agriculture clear habitation primary road            1   \n",
       "\n",
       "   artisinal_mine  bare_ground  blooming  blow_down  clear  cloudy  \\\n",
       "0               0            0         0          0      0       0   \n",
       "1               0            0         0          0      1       0   \n",
       "2               0            0         0          0      1       0   \n",
       "3               0            0         0          0      1       0   \n",
       "4               0            0         0          0      1       0   \n",
       "\n",
       "   conventional_mine  cultivation  habitation  haze  partly_cloudy  primary  \\\n",
       "0                  0            0           0     1              0        1   \n",
       "1                  0            0           0     0              0        1   \n",
       "2                  0            0           0     0              0        1   \n",
       "3                  0            0           0     0              0        1   \n",
       "4                  0            0           1     0              0        1   \n",
       "\n",
       "   road  selective_logging  slash_burn  water  \n",
       "0     0                  0           0      0  \n",
       "1     0                  0           0      1  \n",
       "2     0                  0           0      0  \n",
       "3     0                  0           0      0  \n",
       "4     1                  0           0      0  "
      ]
     },
     "execution_count": 18,
     "metadata": {},
     "output_type": "execute_result"
    }
   ],
   "source": [
    "# Getting the labels into one hot encoded form for EDA ease. \n",
    "\n",
    "for label in labels:\n",
    "    train_classes[label] = train_classes['tags'].apply(lambda x: 1 if label in x.split()  else 0)\n",
    "    \n",
    "train_classes.head()"
   ]
  },
  {
   "cell_type": "code",
   "execution_count": 19,
   "metadata": {},
   "outputs": [
    {
     "data": {
      "image/png": "[encoded data removed]",
      "text/plain": [
       "<Figure size 576x576 with 1 Axes>"
      ]
     },
     "metadata": {
      "needs_background": "light"
     },
     "output_type": "display_data"
    }
   ],
   "source": [
    "train_classes[labels].sum().sort_values(ascending=False).plot(kind='barh', figsize=(8,8));"
   ]
  },
  {
   "cell_type": "code",
   "execution_count": 20,
   "metadata": {},
   "outputs": [],
   "source": [
    "def learning_curve(model_fit, key='acc', ylim=(0.8, 1.01)):\n",
    "    plt.figure(figsize=(12,6))\n",
    "    plt.plot(model_fit.history[key])\n",
    "    plt.plot(model_fit.history['val_' + key])\n",
    "    plt.title('Learning Curve')\n",
    "    plt.ylabel(key.title())\n",
    "    plt.xlabel('Epoch')\n",
    "    plt.ylim(ylim)\n",
    "    plt.legend(['train', 'test'], loc='best')\n",
    "    plt.show()"
   ]
  },
  {
   "cell_type": "code",
   "execution_count": 21,
   "metadata": {},
   "outputs": [],
   "source": [
    "def fbeta_score_K(y_true, y_pred):\n",
    "    beta_squared = 4\n",
    "\n",
    "    tp = K.sum(y_true * y_pred) + K.epsilon()\n",
    "    fp = K.sum(y_pred) - tp\n",
    "    fn = K.sum(y_true) - tp\n",
    "\n",
    "    precision = tp / (tp + fp)\n",
    "    recall = tp / (tp + fn)\n",
    "\n",
    "    result = (beta_squared + 1) * (precision * recall) / (beta_squared * precision + recall + K.epsilon())\n",
    "    return result"
   ]
  },
  {
   "cell_type": "code",
   "execution_count": 22,
   "metadata": {},
   "outputs": [],
   "source": [
    "from keras import backend as K\n",
    "from keras.models import Sequential\n",
    "from keras.layers import Dense, Dropout, Flatten\n",
    "from keras.layers import Conv2D, MaxPool2D\n",
    "from tensorflow.keras.applications import ResNet50, VGG16\n",
    "from tensorflow.keras.optimizers import Adam"
   ]
  },
  {
   "cell_type": "code",
   "execution_count": 23,
   "metadata": {},
   "outputs": [
    {
     "data": {
      "text/plain": [
       "4135"
      ]
     },
     "execution_count": 23,
     "metadata": {},
     "output_type": "execute_result"
    }
   ],
   "source": [
    "gc.collect()"
   ]
  },
  {
   "cell_type": "code",
   "execution_count": 24,
   "metadata": {},
   "outputs": [
    {
     "name": "stdout",
     "output_type": "stream",
     "text": [
      "Model: \"sequential_18\"\n",
      "_________________________________________________________________\n",
      " Layer (type)                Output Shape              Param #   \n",
      "=================================================================\n",
      " vgg16 (Functional)          (None, 2, 2, 512)         14714688  \n",
      "                                                                 \n",
      " flatten_18 (Flatten)        (None, 2048)              0         \n",
      "                                                                 \n",
      " dense_36 (Dense)            (None, 128)               262272    \n",
      "                                                                 \n",
      " dropout_18 (Dropout)        (None, 128)               0         \n",
      "                                                                 \n",
      " dense_37 (Dense)            (None, 17)                2193      \n",
      "                                                                 \n",
      "=================================================================\n",
      "Total params: 14,979,153\n",
      "Trainable params: 264,465\n",
      "Non-trainable params: 14,714,688\n",
      "_________________________________________________________________\n"
     ]
    }
   ],
   "source": [
    "optimizer = Adam(0.003, decay=0.0005)\n",
    "base_model = VGG16(weights='imagenet', include_top=False, input_shape=(64, 64, 3))\n",
    "\n",
    "for layer in base_model.layers:\n",
    "    layer.trainable = False\n",
    "    \n",
    "    model = Sequential([\n",
    "    base_model,\n",
    " \n",
    "    Flatten(), \n",
    "        \n",
    "    Dense(128, activation='relu'),\n",
    "    Dropout(0.2),\n",
    "    Dense(17, activation='sigmoid')  \n",
    "])\n",
    "\n",
    "model.compile(loss='binary_crossentropy', optimizer=optimizer, metrics=[fbeta_score_K])\n",
    "model.summary()"
   ]
  },
  {
   "cell_type": "code",
   "execution_count": 25,
   "metadata": {},
   "outputs": [
    {
     "name": "stdout",
     "output_type": "stream",
     "text": [
      "Epoch 1/10\n",
      "506/506 [==============================] - 716s 1s/step - loss: 0.1739 - fbeta_score_K: 0.7020 - val_loss: 0.1499 - val_fbeta_score_K: 0.7379\n",
      "Epoch 2/10\n",
      "506/506 [==============================] - 721s 1s/step - loss: 0.1483 - fbeta_score_K: 0.7408 - val_loss: 0.1415 - val_fbeta_score_K: 0.7436\n",
      "Epoch 3/10\n",
      "506/506 [==============================] - 719s 1s/step - loss: 0.1419 - fbeta_score_K: 0.7515 - val_loss: 0.1391 - val_fbeta_score_K: 0.7548\n",
      "Epoch 4/10\n",
      "506/506 [==============================] - 720s 1s/step - loss: 0.1385 - fbeta_score_K: 0.7576 - val_loss: 0.1356 - val_fbeta_score_K: 0.7543\n",
      "Epoch 5/10\n",
      "506/506 [==============================] - 721s 1s/step - loss: 0.1354 - fbeta_score_K: 0.7628 - val_loss: 0.1336 - val_fbeta_score_K: 0.7646\n",
      "Epoch 6/10\n",
      "506/506 [==============================] - 720s 1s/step - loss: 0.1333 - fbeta_score_K: 0.7666 - val_loss: 0.1331 - val_fbeta_score_K: 0.7618\n",
      "Epoch 7/10\n",
      "506/506 [==============================] - 723s 1s/step - loss: 0.1322 - fbeta_score_K: 0.7680 - val_loss: 0.1330 - val_fbeta_score_K: 0.7747\n",
      "Epoch 8/10\n",
      "506/506 [==============================] - 679s 1s/step - loss: 0.1303 - fbeta_score_K: 0.7719 - val_loss: 0.1323 - val_fbeta_score_K: 0.7643\n",
      "Epoch 9/10\n",
      "506/506 [==============================] - 607s 1s/step - loss: 0.1291 - fbeta_score_K: 0.7732 - val_loss: 0.1310 - val_fbeta_score_K: 0.7684\n",
      "Epoch 10/10\n",
      "506/506 [==============================] - 603s 1s/step - loss: 0.1280 - fbeta_score_K: 0.7754 - val_loss: 0.1305 - val_fbeta_score_K: 0.7750\n"
     ]
    }
   ],
   "source": [
    "model_fit = model.fit( x_train, y_train, batch_size=64, epochs=10, verbose=1, validation_data=(x_val, y_val))"
   ]
  },
  {
   "cell_type": "code",
   "execution_count": 26,
   "metadata": {},
   "outputs": [
    {
     "name": "stdout",
     "output_type": "stream",
     "text": [
      "Test score (f1):  0.8803022628843048\n",
      "Error: 11.97%\n"
     ]
    }
   ],
   "source": [
    "y_pred = model.predict(x_val, batch_size=64)\n",
    "score = fbeta_score(y_val, np.array(y_pred) > 0.2, beta=2, average='samples')\n",
    "\n",
    "print(\"Test score (f1): \", score)\n",
    "print(\"Error: %.2f%%\" % (100-score*100))"
   ]
  },
  {
   "cell_type": "code",
   "execution_count": 27,
   "metadata": {},
   "outputs": [
    {
     "data": {
      "image/png": "[encoded data removed]",
      "text/plain": [
       "<Figure size 864x432 with 1 Axes>"
      ]
     },
     "metadata": {
      "needs_background": "light"
     },
     "output_type": "display_data"
    }
   ],
   "source": [
    "learning_curve(model_fit, key='loss', ylim=(0, 1))"
   ]
  },
  {
   "cell_type": "code",
   "execution_count": 28,
   "metadata": {},
   "outputs": [
    {
     "data": {
      "text/plain": [
       "6505"
      ]
     },
     "execution_count": 28,
     "metadata": {},
     "output_type": "execute_result"
    }
   ],
   "source": [
    "gc.collect()"
   ]
  },
  {
   "cell_type": "code",
   "execution_count": 29,
   "metadata": {},
   "outputs": [
    {
     "name": "stdout",
     "output_type": "stream",
     "text": [
      "Epoch 1/10\n",
      "506/506 [==============================] - 628s 1s/step - loss: 0.1244 - fbeta_score_K: 0.7799 - val_loss: 0.1295 - val_fbeta_score_K: 0.7754\n",
      "Epoch 2/10\n",
      "506/506 [==============================] - 594s 1s/step - loss: 0.1241 - fbeta_score_K: 0.7802 - val_loss: 0.1293 - val_fbeta_score_K: 0.7757\n",
      "Epoch 3/10\n",
      "506/506 [==============================] - 590s 1s/step - loss: 0.1239 - fbeta_score_K: 0.7807 - val_loss: 0.1291 - val_fbeta_score_K: 0.7763\n",
      "Epoch 4/10\n",
      "506/506 [==============================] - 606s 1s/step - loss: 0.1238 - fbeta_score_K: 0.7806 - val_loss: 0.1291 - val_fbeta_score_K: 0.7776\n",
      "Epoch 5/10\n",
      "506/506 [==============================] - 624s 1s/step - loss: 0.1234 - fbeta_score_K: 0.7811 - val_loss: 0.1289 - val_fbeta_score_K: 0.7756\n",
      "Epoch 6/10\n",
      "506/506 [==============================] - 608s 1s/step - loss: 0.1234 - fbeta_score_K: 0.7813 - val_loss: 0.1290 - val_fbeta_score_K: 0.7756\n",
      "Epoch 7/10\n",
      "506/506 [==============================] - 592s 1s/step - loss: 0.1233 - fbeta_score_K: 0.7816 - val_loss: 0.1295 - val_fbeta_score_K: 0.7767\n",
      "Epoch 8/10\n",
      "506/506 [==============================] - 595s 1s/step - loss: 0.1233 - fbeta_score_K: 0.7820 - val_loss: 0.1290 - val_fbeta_score_K: 0.7767\n",
      "Epoch 9/10\n",
      "506/506 [==============================] - 643s 1s/step - loss: 0.1231 - fbeta_score_K: 0.7820 - val_loss: 0.1290 - val_fbeta_score_K: 0.7746\n",
      "Epoch 10/10\n",
      "506/506 [==============================] - 714s 1s/step - loss: 0.1230 - fbeta_score_K: 0.7824 - val_loss: 0.1288 - val_fbeta_score_K: 0.7766\n"
     ]
    }
   ],
   "source": [
    "# decrease learning step and decay\n",
    "\n",
    "optimizer = Adam(0.0001, decay=0.00001)\n",
    "model.compile(loss='binary_crossentropy', optimizer=optimizer, metrics=[fbeta_score_K])\n",
    "\n",
    "model_fit = model.fit(\n",
    "    x_train, y_train,\n",
    "    batch_size=64,\n",
    "    epochs=10,\n",
    "    verbose=1,\n",
    "    validation_data=(x_val, y_val))"
   ]
  },
  {
   "cell_type": "code",
   "execution_count": 30,
   "metadata": {},
   "outputs": [
    {
     "name": "stdout",
     "output_type": "stream",
     "text": [
      "Test score (f1):  0.8827521116813606\n",
      "Error: 11.72%\n"
     ]
    }
   ],
   "source": [
    "y_pred = model.predict(x_val, batch_size=64)\n",
    "score = fbeta_score(y_val, np.array(y_pred) > 0.2, beta=2, average='samples')\n",
    "\n",
    "print(\"Test score (f1): \", score)\n",
    "print(\"Error: %.2f%%\" % (100-score*100))"
   ]
  },
  {
   "cell_type": "code",
   "execution_count": 31,
   "metadata": {},
   "outputs": [
    {
     "data": {
      "image/png": "[encoded data removed]",
      "text/plain": [
       "<Figure size 864x432 with 1 Axes>"
      ]
     },
     "metadata": {
      "needs_background": "light"
     },
     "output_type": "display_data"
    }
   ],
   "source": [
    "learning_curve(model_fit, key='loss', ylim=(0, 1))"
   ]
  },
  {
   "cell_type": "code",
   "execution_count": 32,
   "metadata": {},
   "outputs": [
    {
     "data": {
      "text/plain": [
       "4390"
      ]
     },
     "execution_count": 32,
     "metadata": {},
     "output_type": "execute_result"
    }
   ],
   "source": [
    "gc.collect()"
   ]
  },
  {
   "cell_type": "code",
   "execution_count": 33,
   "metadata": {},
   "outputs": [
    {
     "name": "stdout",
     "output_type": "stream",
     "text": [
      "input_1 False\n",
      "block1_conv1 True\n",
      "block1_conv2 True\n",
      "block1_pool True\n",
      "block2_conv1 True\n",
      "block2_conv2 True\n",
      "block2_pool True\n",
      "block3_conv1 True\n",
      "block3_conv2 True\n",
      "block3_conv3 True\n",
      "block3_pool True\n",
      "block4_conv1 True\n",
      "block4_conv2 True\n",
      "block4_conv3 True\n",
      "block4_pool True\n",
      "block5_conv1 True\n",
      "block5_conv2 True\n",
      "block5_conv3 True\n",
      "block5_pool True\n",
      "Model: \"sequential_18\"\n",
      "_________________________________________________________________\n",
      " Layer (type)                Output Shape              Param #   \n",
      "=================================================================\n",
      " vgg16 (Functional)          (None, 2, 2, 512)         14714688  \n",
      "                                                                 \n",
      " flatten_18 (Flatten)        (None, 2048)              0         \n",
      "                                                                 \n",
      " dense_36 (Dense)            (None, 128)               262272    \n",
      "                                                                 \n",
      " dropout_18 (Dropout)        (None, 128)               0         \n",
      "                                                                 \n",
      " dense_37 (Dense)            (None, 17)                2193      \n",
      "                                                                 \n",
      "=================================================================\n",
      "Total params: 14,979,153\n",
      "Trainable params: 14,979,153\n",
      "Non-trainable params: 0\n",
      "_________________________________________________________________\n"
     ]
    }
   ],
   "source": [
    "# adding more layer to learn\n",
    "\n",
    "for layer in model.layers[0].layers[1:]:\n",
    "    layer.trainable = True\n",
    "\n",
    "for layer in model.layers[0].layers:\n",
    "    print(layer.name, layer. trainable)\n",
    "\n",
    "model.compile(loss='binary_crossentropy', optimizer=optimizer, metrics=[fbeta_score_K])\n",
    "model.summary()"
   ]
  },
  {
   "cell_type": "code",
   "execution_count": 35,
   "metadata": {},
   "outputs": [
    {
     "name": "stdout",
     "output_type": "stream",
     "text": [
      "633/633 [==============================] - 2850s 5s/step - loss: 0.2093 - fbeta_score_K: 0.6452 - val_loss: 0.8441 - val_fbeta_score_K: 0.3192\n"
     ]
    }
   ],
   "source": [
    "model_fit = model.fit(\n",
    "    x, y,\n",
    "    batch_size=64,\n",
    "    epochs=1,\n",
    "    verbose=1,\n",
    "    validation_data=(x_val, y_val))"
   ]
  },
  {
   "cell_type": "code",
   "execution_count": 36,
   "metadata": {},
   "outputs": [
    {
     "name": "stdout",
     "output_type": "stream",
     "text": [
      "F beta score:  0.4160967162207852\n",
      "Error: 58.39%\n"
     ]
    }
   ],
   "source": [
    "y_pred = model.predict(x_val, batch_size=64)\n",
    "score = fbeta_score(y_val, np.array(y_pred) > 0.2, beta=2, average='samples')\n",
    "\n",
    "print(\"F beta score: \", score)\n",
    "print(\"Error: %.2f%%\" % (100-score*100))"
   ]
  },
  {
   "cell_type": "code",
   "execution_count": 37,
   "metadata": {},
   "outputs": [
    {
     "data": {
      "text/plain": [
       "956"
      ]
     },
     "execution_count": 37,
     "metadata": {},
     "output_type": "execute_result"
    }
   ],
   "source": [
    "gc.collect()"
   ]
  },
  {
   "cell_type": "code",
   "execution_count": 38,
   "metadata": {},
   "outputs": [
    {
     "data": {
      "image/png": "[encoded data removed]",
      "text/plain": [
       "<Figure size 864x432 with 1 Axes>"
      ]
     },
     "metadata": {
      "needs_background": "light"
     },
     "output_type": "display_data"
    }
   ],
   "source": [
    "learning_curve(model_fit, key='loss', ylim=(0, 1))"
   ]
  },
  {
   "cell_type": "code",
   "execution_count": 39,
   "metadata": {},
   "outputs": [
    {
     "name": "stderr",
     "output_type": "stream",
     "text": [
      "<ipython-input-39-a7d007e1b686>:7: UserWarning: `Model.fit_generator` is deprecated and will be removed in a future version. Please use `Model.fit`, which supports generators.\n",
      "  model_fit = model.fit_generator(aug.flow(x, y, batch_size=64),\n"
     ]
    },
    {
     "name": "stdout",
     "output_type": "stream",
     "text": [
      "Epoch 1/5\n",
      "316/316 [==============================] - 1818s 6s/step - loss: 0.2028 - fbeta_score_K: 0.6547 - val_loss: 0.9889 - val_fbeta_score_K: 0.3172\n",
      "Epoch 2/5\n",
      "316/316 [==============================] - 1928s 6s/step - loss: 0.1981 - fbeta_score_K: 0.6619 - val_loss: 0.9289 - val_fbeta_score_K: 0.3231\n",
      "Epoch 3/5\n",
      "316/316 [==============================] - 1920s 6s/step - loss: 0.1941 - fbeta_score_K: 0.6671 - val_loss: 1.0593 - val_fbeta_score_K: 0.3173\n",
      "Epoch 4/5\n",
      "316/316 [==============================] - 1739s 6s/step - loss: 0.1882 - fbeta_score_K: 0.6730 - val_loss: 0.9185 - val_fbeta_score_K: 0.3132\n",
      "Epoch 5/5\n",
      "316/316 [==============================] - 1521s 5s/step - loss: 0.1837 - fbeta_score_K: 0.6795 - val_loss: 1.2541 - val_fbeta_score_K: 0.3178\n"
     ]
    }
   ],
   "source": [
    "# I will check fit_generator for my the best solution\n",
    "\n",
    "aug = keras.preprocessing.image.ImageDataGenerator(rotation_range=20, zoom_range=0.15,\n",
    "                         width_shift_range=0.2, height_shift_range=0.2, shear_range=0.15,\n",
    "                         horizontal_flip=True, fill_mode=\"nearest\")\n",
    " \n",
    "model_fit = model.fit_generator(aug.flow(x, y, batch_size=64),\n",
    "                        validation_data=(x_val, y_val), steps_per_epoch=len(x) // 128,\n",
    "                        epochs=5)"
   ]
  },
  {
   "cell_type": "code",
   "execution_count": 40,
   "metadata": {},
   "outputs": [
    {
     "name": "stdout",
     "output_type": "stream",
     "text": [
      "F beta score:  0.35848353903339525\n",
      "Error: 64.15%\n"
     ]
    }
   ],
   "source": [
    "y_pred = model.predict(x_val, batch_size=64)\n",
    "score = fbeta_score(y_val, np.array(y_pred) > 0.2, beta=2, average='samples')\n",
    "\n",
    "print(\"F beta score: \", score)\n",
    "print(\"Error: %.2f%%\" % (100-score*100))"
   ]
  },
  {
   "cell_type": "code",
   "execution_count": 41,
   "metadata": {},
   "outputs": [
    {
     "data": {
      "image/png": "[encoded data removed]",
      "text/plain": [
       "<Figure size 864x432 with 1 Axes>"
      ]
     },
     "metadata": {
      "needs_background": "light"
     },
     "output_type": "display_data"
    }
   ],
   "source": [
    "learning_curve(model_fit, key='loss', ylim=(0, 1))"
   ]
  },
  {
   "cell_type": "code",
   "execution_count": 50,
   "metadata": {},
   "outputs": [
    {
     "name": "stderr",
     "output_type": "stream",
     "text": [
      "100%|██████████| 40669/40669 [01:33<00:00, 433.06it/s]\n"
     ]
    }
   ],
   "source": [
    "# now to check the Test data\n",
    "\n",
    "\n",
    "X_test=[]\n",
    "\n",
    "for img, label in tqdm(sample_sub[:40669].values, miniters = 1000):\n",
    "    X_test.append(cv2.resize(cv2.imread(\"C:\\\\Users\\\\kumar\\\\Desktop\\\\data_science_projects\\\\Hamoye stageD\\\\test-jpg\\\\test-jpg\\{}.jpg\".format(img)), (64,64)))\n",
    "\n",
    "\n",
    "x_test = np.array(X_test, np.float16)/255"
   ]
  },
  {
   "cell_type": "code",
   "execution_count": 51,
   "metadata": {},
   "outputs": [
    {
     "data": {
      "text/plain": [
       "(40669, 64, 64, 3)"
      ]
     },
     "execution_count": 51,
     "metadata": {},
     "output_type": "execute_result"
    }
   ],
   "source": [
    "x_test.shape"
   ]
  },
  {
   "cell_type": "code",
   "execution_count": 52,
   "metadata": {},
   "outputs": [],
   "source": [
    "Test_Predictions = model.predict(x_test, batch_size = 64)"
   ]
  },
  {
   "cell_type": "code",
   "execution_count": 53,
   "metadata": {},
   "outputs": [
    {
     "data": {
      "text/plain": [
       "array([[1.830280e-03, 5.240171e-09, 2.991124e-05, 4.489318e-05, ..., 5.516410e-04, 1.159061e-06, 4.964581e-08,\n",
       "        2.808654e-02],\n",
       "       [1.072111e-01, 1.855493e-04, 4.359275e-03, 6.842107e-03, ..., 4.387110e-02, 2.110153e-03, 5.724430e-04,\n",
       "        2.097216e-01],\n",
       "       [3.443578e-01, 9.500419e-06, 1.133445e-02, 6.659925e-04, ..., 1.213678e-01, 1.883298e-03, 2.925694e-04,\n",
       "        4.187858e-02],\n",
       "       [3.571457e-02, 9.152405e-06, 1.467615e-03, 1.714587e-03, ..., 1.173714e-02, 2.325773e-04, 4.816055e-05,\n",
       "        1.325307e-01],\n",
       "       ...,\n",
       "       [5.904270e-01, 3.424019e-03, 4.737616e-03, 8.065283e-03, ..., 3.104519e-01, 5.266368e-03, 3.258437e-03,\n",
       "        3.530166e-01],\n",
       "       [6.483449e-01, 9.563476e-03, 1.537007e-02, 1.572818e-02, ..., 4.406978e-01, 1.287380e-02, 4.307121e-03,\n",
       "        3.292917e-01],\n",
       "       [3.333538e-01, 4.602808e-06, 1.167402e-02, 5.650222e-04, ..., 1.033564e-01, 1.793057e-03, 2.789795e-04,\n",
       "        4.118627e-02],\n",
       "       [5.833209e-04, 1.477663e-10, 4.711951e-06, 8.456918e-06, ..., 1.348853e-04, 9.106496e-08, 2.690231e-09,\n",
       "        1.912677e-02]], dtype=float32)"
      ]
     },
     "execution_count": 53,
     "metadata": {},
     "output_type": "execute_result"
    }
   ],
   "source": [
    "Test_Predictions"
   ]
  },
  {
   "cell_type": "code",
   "execution_count": 54,
   "metadata": {},
   "outputs": [
    {
     "data": {
      "text/html": [
       "<div>\n",
       "<style scoped>\n",
       "    .dataframe tbody tr th:only-of-type {\n",
       "        vertical-align: middle;\n",
       "    }\n",
       "\n",
       "    .dataframe tbody tr th {\n",
       "        vertical-align: top;\n",
       "    }\n",
       "\n",
       "    .dataframe thead th {\n",
       "        text-align: right;\n",
       "    }\n",
       "</style>\n",
       "<table border=\"1\" class=\"dataframe\">\n",
       "  <thead>\n",
       "    <tr style=\"text-align: right;\">\n",
       "      <th></th>\n",
       "      <th>agriculture</th>\n",
       "      <th>artisinal_mine</th>\n",
       "      <th>bare_ground</th>\n",
       "      <th>blooming</th>\n",
       "      <th>blow_down</th>\n",
       "      <th>clear</th>\n",
       "      <th>cloudy</th>\n",
       "      <th>conventional_mine</th>\n",
       "      <th>cultivation</th>\n",
       "      <th>habitation</th>\n",
       "      <th>haze</th>\n",
       "      <th>partly_cloudy</th>\n",
       "      <th>primary</th>\n",
       "      <th>road</th>\n",
       "      <th>selective_logging</th>\n",
       "      <th>slash_burn</th>\n",
       "      <th>water</th>\n",
       "    </tr>\n",
       "  </thead>\n",
       "  <tbody>\n",
       "    <tr>\n",
       "      <th>0</th>\n",
       "      <td>0.001830</td>\n",
       "      <td>5.240171e-09</td>\n",
       "      <td>0.000030</td>\n",
       "      <td>0.000045</td>\n",
       "      <td>3.812660e-08</td>\n",
       "      <td>0.999303</td>\n",
       "      <td>1.548846e-06</td>\n",
       "      <td>1.841579e-09</td>\n",
       "      <td>0.001616</td>\n",
       "      <td>0.000235</td>\n",
       "      <td>0.000933</td>\n",
       "      <td>0.000283</td>\n",
       "      <td>1.000000</td>\n",
       "      <td>0.000552</td>\n",
       "      <td>1.159061e-06</td>\n",
       "      <td>4.964581e-08</td>\n",
       "      <td>0.028087</td>\n",
       "    </tr>\n",
       "    <tr>\n",
       "      <th>1</th>\n",
       "      <td>0.107211</td>\n",
       "      <td>1.855493e-04</td>\n",
       "      <td>0.004359</td>\n",
       "      <td>0.006842</td>\n",
       "      <td>3.027618e-04</td>\n",
       "      <td>0.990272</td>\n",
       "      <td>2.769232e-04</td>\n",
       "      <td>4.087625e-05</td>\n",
       "      <td>0.083949</td>\n",
       "      <td>0.017362</td>\n",
       "      <td>0.016297</td>\n",
       "      <td>0.009788</td>\n",
       "      <td>0.999904</td>\n",
       "      <td>0.043871</td>\n",
       "      <td>2.110153e-03</td>\n",
       "      <td>5.724430e-04</td>\n",
       "      <td>0.209722</td>\n",
       "    </tr>\n",
       "    <tr>\n",
       "      <th>2</th>\n",
       "      <td>0.344358</td>\n",
       "      <td>9.500419e-06</td>\n",
       "      <td>0.011334</td>\n",
       "      <td>0.000666</td>\n",
       "      <td>2.900108e-05</td>\n",
       "      <td>0.077137</td>\n",
       "      <td>3.747156e-02</td>\n",
       "      <td>2.639890e-04</td>\n",
       "      <td>0.089598</td>\n",
       "      <td>0.005886</td>\n",
       "      <td>0.052854</td>\n",
       "      <td>0.883594</td>\n",
       "      <td>0.941486</td>\n",
       "      <td>0.121368</td>\n",
       "      <td>1.883298e-03</td>\n",
       "      <td>2.925694e-04</td>\n",
       "      <td>0.041879</td>\n",
       "    </tr>\n",
       "    <tr>\n",
       "      <th>3</th>\n",
       "      <td>0.035715</td>\n",
       "      <td>9.152405e-06</td>\n",
       "      <td>0.001468</td>\n",
       "      <td>0.001715</td>\n",
       "      <td>1.980760e-05</td>\n",
       "      <td>0.992886</td>\n",
       "      <td>1.002372e-04</td>\n",
       "      <td>2.759703e-06</td>\n",
       "      <td>0.033278</td>\n",
       "      <td>0.003932</td>\n",
       "      <td>0.008556</td>\n",
       "      <td>0.006443</td>\n",
       "      <td>0.999986</td>\n",
       "      <td>0.011737</td>\n",
       "      <td>2.325773e-04</td>\n",
       "      <td>4.816055e-05</td>\n",
       "      <td>0.132531</td>\n",
       "    </tr>\n",
       "    <tr>\n",
       "      <th>4</th>\n",
       "      <td>0.186641</td>\n",
       "      <td>1.245439e-04</td>\n",
       "      <td>0.010819</td>\n",
       "      <td>0.000607</td>\n",
       "      <td>1.231328e-04</td>\n",
       "      <td>0.072296</td>\n",
       "      <td>1.035281e-01</td>\n",
       "      <td>5.736053e-04</td>\n",
       "      <td>0.035074</td>\n",
       "      <td>0.006094</td>\n",
       "      <td>0.060675</td>\n",
       "      <td>0.526892</td>\n",
       "      <td>0.654427</td>\n",
       "      <td>0.070355</td>\n",
       "      <td>1.497090e-03</td>\n",
       "      <td>1.185220e-04</td>\n",
       "      <td>0.042858</td>\n",
       "    </tr>\n",
       "    <tr>\n",
       "      <th>...</th>\n",
       "      <td>...</td>\n",
       "      <td>...</td>\n",
       "      <td>...</td>\n",
       "      <td>...</td>\n",
       "      <td>...</td>\n",
       "      <td>...</td>\n",
       "      <td>...</td>\n",
       "      <td>...</td>\n",
       "      <td>...</td>\n",
       "      <td>...</td>\n",
       "      <td>...</td>\n",
       "      <td>...</td>\n",
       "      <td>...</td>\n",
       "      <td>...</td>\n",
       "      <td>...</td>\n",
       "      <td>...</td>\n",
       "      <td>...</td>\n",
       "    </tr>\n",
       "    <tr>\n",
       "      <th>40664</th>\n",
       "      <td>0.001526</td>\n",
       "      <td>2.930814e-09</td>\n",
       "      <td>0.000022</td>\n",
       "      <td>0.000034</td>\n",
       "      <td>2.254063e-08</td>\n",
       "      <td>0.999472</td>\n",
       "      <td>9.658338e-07</td>\n",
       "      <td>9.666183e-10</td>\n",
       "      <td>0.001385</td>\n",
       "      <td>0.000181</td>\n",
       "      <td>0.000740</td>\n",
       "      <td>0.000214</td>\n",
       "      <td>1.000000</td>\n",
       "      <td>0.000441</td>\n",
       "      <td>7.614776e-07</td>\n",
       "      <td>3.061065e-08</td>\n",
       "      <td>0.026311</td>\n",
       "    </tr>\n",
       "    <tr>\n",
       "      <th>40665</th>\n",
       "      <td>0.590427</td>\n",
       "      <td>3.424019e-03</td>\n",
       "      <td>0.004738</td>\n",
       "      <td>0.008065</td>\n",
       "      <td>1.225650e-03</td>\n",
       "      <td>0.977900</td>\n",
       "      <td>1.603365e-04</td>\n",
       "      <td>1.211865e-04</td>\n",
       "      <td>0.279250</td>\n",
       "      <td>0.045770</td>\n",
       "      <td>0.016502</td>\n",
       "      <td>0.013984</td>\n",
       "      <td>0.999889</td>\n",
       "      <td>0.310452</td>\n",
       "      <td>5.266368e-03</td>\n",
       "      <td>3.258437e-03</td>\n",
       "      <td>0.353017</td>\n",
       "    </tr>\n",
       "    <tr>\n",
       "      <th>40666</th>\n",
       "      <td>0.648345</td>\n",
       "      <td>9.563476e-03</td>\n",
       "      <td>0.015370</td>\n",
       "      <td>0.015728</td>\n",
       "      <td>2.837986e-03</td>\n",
       "      <td>0.981429</td>\n",
       "      <td>1.890957e-04</td>\n",
       "      <td>9.108782e-04</td>\n",
       "      <td>0.295752</td>\n",
       "      <td>0.178794</td>\n",
       "      <td>0.021327</td>\n",
       "      <td>0.026578</td>\n",
       "      <td>0.998349</td>\n",
       "      <td>0.440698</td>\n",
       "      <td>1.287380e-02</td>\n",
       "      <td>4.307121e-03</td>\n",
       "      <td>0.329292</td>\n",
       "    </tr>\n",
       "    <tr>\n",
       "      <th>40667</th>\n",
       "      <td>0.333354</td>\n",
       "      <td>4.602808e-06</td>\n",
       "      <td>0.011674</td>\n",
       "      <td>0.000565</td>\n",
       "      <td>1.772324e-05</td>\n",
       "      <td>0.081033</td>\n",
       "      <td>3.166384e-02</td>\n",
       "      <td>2.047420e-04</td>\n",
       "      <td>0.102391</td>\n",
       "      <td>0.004092</td>\n",
       "      <td>0.045330</td>\n",
       "      <td>0.908729</td>\n",
       "      <td>0.960855</td>\n",
       "      <td>0.103356</td>\n",
       "      <td>1.793057e-03</td>\n",
       "      <td>2.789795e-04</td>\n",
       "      <td>0.041186</td>\n",
       "    </tr>\n",
       "    <tr>\n",
       "      <th>40668</th>\n",
       "      <td>0.000583</td>\n",
       "      <td>1.477663e-10</td>\n",
       "      <td>0.000005</td>\n",
       "      <td>0.000008</td>\n",
       "      <td>1.543291e-09</td>\n",
       "      <td>0.999874</td>\n",
       "      <td>8.982155e-08</td>\n",
       "      <td>3.682482e-11</td>\n",
       "      <td>0.000640</td>\n",
       "      <td>0.000046</td>\n",
       "      <td>0.000229</td>\n",
       "      <td>0.000052</td>\n",
       "      <td>1.000000</td>\n",
       "      <td>0.000135</td>\n",
       "      <td>9.106496e-08</td>\n",
       "      <td>2.690231e-09</td>\n",
       "      <td>0.019127</td>\n",
       "    </tr>\n",
       "  </tbody>\n",
       "</table>\n",
       "<p>40669 rows × 17 columns</p>\n",
       "</div>"
      ],
      "text/plain": [
       "       agriculture  artisinal_mine  bare_ground  blooming     blow_down  \\\n",
       "0         0.001830    5.240171e-09     0.000030  0.000045  3.812660e-08   \n",
       "1         0.107211    1.855493e-04     0.004359  0.006842  3.027618e-04   \n",
       "2         0.344358    9.500419e-06     0.011334  0.000666  2.900108e-05   \n",
       "3         0.035715    9.152405e-06     0.001468  0.001715  1.980760e-05   \n",
       "4         0.186641    1.245439e-04     0.010819  0.000607  1.231328e-04   \n",
       "...            ...             ...          ...       ...           ...   \n",
       "40664     0.001526    2.930814e-09     0.000022  0.000034  2.254063e-08   \n",
       "40665     0.590427    3.424019e-03     0.004738  0.008065  1.225650e-03   \n",
       "40666     0.648345    9.563476e-03     0.015370  0.015728  2.837986e-03   \n",
       "40667     0.333354    4.602808e-06     0.011674  0.000565  1.772324e-05   \n",
       "40668     0.000583    1.477663e-10     0.000005  0.000008  1.543291e-09   \n",
       "\n",
       "          clear        cloudy  conventional_mine  cultivation  habitation  \\\n",
       "0      0.999303  1.548846e-06       1.841579e-09     0.001616    0.000235   \n",
       "1      0.990272  2.769232e-04       4.087625e-05     0.083949    0.017362   \n",
       "2      0.077137  3.747156e-02       2.639890e-04     0.089598    0.005886   \n",
       "3      0.992886  1.002372e-04       2.759703e-06     0.033278    0.003932   \n",
       "4      0.072296  1.035281e-01       5.736053e-04     0.035074    0.006094   \n",
       "...         ...           ...                ...          ...         ...   \n",
       "40664  0.999472  9.658338e-07       9.666183e-10     0.001385    0.000181   \n",
       "40665  0.977900  1.603365e-04       1.211865e-04     0.279250    0.045770   \n",
       "40666  0.981429  1.890957e-04       9.108782e-04     0.295752    0.178794   \n",
       "40667  0.081033  3.166384e-02       2.047420e-04     0.102391    0.004092   \n",
       "40668  0.999874  8.982155e-08       3.682482e-11     0.000640    0.000046   \n",
       "\n",
       "           haze  partly_cloudy   primary      road  selective_logging  \\\n",
       "0      0.000933       0.000283  1.000000  0.000552       1.159061e-06   \n",
       "1      0.016297       0.009788  0.999904  0.043871       2.110153e-03   \n",
       "2      0.052854       0.883594  0.941486  0.121368       1.883298e-03   \n",
       "3      0.008556       0.006443  0.999986  0.011737       2.325773e-04   \n",
       "4      0.060675       0.526892  0.654427  0.070355       1.497090e-03   \n",
       "...         ...            ...       ...       ...                ...   \n",
       "40664  0.000740       0.000214  1.000000  0.000441       7.614776e-07   \n",
       "40665  0.016502       0.013984  0.999889  0.310452       5.266368e-03   \n",
       "40666  0.021327       0.026578  0.998349  0.440698       1.287380e-02   \n",
       "40667  0.045330       0.908729  0.960855  0.103356       1.793057e-03   \n",
       "40668  0.000229       0.000052  1.000000  0.000135       9.106496e-08   \n",
       "\n",
       "         slash_burn     water  \n",
       "0      4.964581e-08  0.028087  \n",
       "1      5.724430e-04  0.209722  \n",
       "2      2.925694e-04  0.041879  \n",
       "3      4.816055e-05  0.132531  \n",
       "4      1.185220e-04  0.042858  \n",
       "...             ...       ...  \n",
       "40664  3.061065e-08  0.026311  \n",
       "40665  3.258437e-03  0.353017  \n",
       "40666  4.307121e-03  0.329292  \n",
       "40667  2.789795e-04  0.041186  \n",
       "40668  2.690231e-09  0.019127  \n",
       "\n",
       "[40669 rows x 17 columns]"
      ]
     },
     "execution_count": 54,
     "metadata": {},
     "output_type": "execute_result"
    }
   ],
   "source": [
    "pred = pd.DataFrame(Test_Predictions, columns= labels)\n",
    "pred\n"
   ]
  },
  {
   "cell_type": "code",
   "execution_count": 55,
   "metadata": {},
   "outputs": [
    {
     "data": {
      "text/plain": [
       "array(['agriculture', 'artisinal_mine', 'bare_ground', 'blooming', 'blow_down', 'clear', 'cloudy', 'conventional_mine',\n",
       "       'cultivation', 'habitation', 'haze', 'partly_cloudy', 'primary', 'road', 'selective_logging', 'slash_burn',\n",
       "       'water'], dtype=object)"
      ]
     },
     "execution_count": 55,
     "metadata": {},
     "output_type": "execute_result"
    }
   ],
   "source": [
    "labels"
   ]
  },
  {
   "cell_type": "code",
   "execution_count": 56,
   "metadata": {},
   "outputs": [],
   "source": [
    "# kaggle submission"
   ]
  },
  {
   "cell_type": "code",
   "execution_count": 57,
   "metadata": {},
   "outputs": [
    {
     "data": {
      "image/png": "[encoded data removed]",
      "text/plain": [
       "<Figure size 864x432 with 1 Axes>"
      ]
     },
     "metadata": {
      "needs_background": "light"
     },
     "output_type": "display_data"
    }
   ],
   "source": [
    "learning_curve(model_fit, key='loss', ylim=(0, 1))"
   ]
  },
  {
   "cell_type": "code",
   "execution_count": 58,
   "metadata": {},
   "outputs": [
    {
     "name": "stderr",
     "output_type": "stream",
     "text": [
      "100%|██████████| 40669/40669 [02:01<00:00, 335.93it/s]\n"
     ]
    }
   ],
   "source": [
    "final_pred = []\n",
    "\n",
    "for i in tqdm(range(pred.shape[0]), miniters=1000):\n",
    "    a = pred.loc[[i]]\n",
    "    a = a.apply(lambda x:x>0.2, axis =1)\n",
    "    a = a.transpose()\n",
    "    a = a.loc[a[i]==True]\n",
    "    ' '.join(list(a.index))\n",
    "    final_pred.append(' '.join(list(a.index)))"
   ]
  },
  {
   "cell_type": "code",
   "execution_count": 59,
   "metadata": {},
   "outputs": [
    {
     "data": {
      "text/plain": [
       "9865"
      ]
     },
     "execution_count": 59,
     "metadata": {},
     "output_type": "execute_result"
    }
   ],
   "source": [
    "gc.collect()"
   ]
  },
  {
   "cell_type": "code",
   "execution_count": 61,
   "metadata": {},
   "outputs": [],
   "source": []
  },
  {
   "cell_type": "code",
   "execution_count": 62,
   "metadata": {},
   "outputs": [],
   "source": [
    "sample_sub.to_csv('Final.csv', index = False)"
   ]
  },
  {
   "cell_type": "code",
   "execution_count": null,
   "metadata": {},
   "outputs": [],
   "source": []
  },
  {
   "cell_type": "code",
   "execution_count": null,
   "metadata": {},
   "outputs": [],
   "source": []
  }
 ],
 "metadata": {
  "kernelspec": {
   "display_name": "Python 3",
   "language": "python",
   "name": "python3"
  },
  "language_info": {
   "codemirror_mode": {
    "name": "ipython",
    "version": 3
   },
   "file_extension": ".py",
   "mimetype": "text/x-python",
   "name": "python",
   "nbconvert_exporter": "python",
   "pygments_lexer": "ipython3",
   "version": "3.8.3"
  }
 },
 "nbformat": 4,
 "nbformat_minor": 4
}
